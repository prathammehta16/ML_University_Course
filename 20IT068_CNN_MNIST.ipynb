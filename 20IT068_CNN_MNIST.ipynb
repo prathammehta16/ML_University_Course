{
  "nbformat": 4,
  "nbformat_minor": 0,
  "metadata": {
    "colab": {
      "provenance": [],
      "authorship_tag": "ABX9TyMjt4eV+pdqxqxHzqnkR7bl",
      "include_colab_link": true
    },
    "kernelspec": {
      "name": "python3",
      "display_name": "Python 3"
    },
    "language_info": {
      "name": "python"
    },
    "accelerator": "GPU",
    "gpuClass": "standard"
  },
  "cells": [
    {
      "cell_type": "markdown",
      "metadata": {
        "id": "view-in-github",
        "colab_type": "text"
      },
      "source": [
        "<a href=\"https://colab.research.google.com/github/prathammehta16/ML_University_Course/blob/main/20IT068_CNN_MNIST.ipynb\" target=\"_parent\"><img src=\"https://colab.research.google.com/assets/colab-badge.svg\" alt=\"Open In Colab\"/></a>"
      ]
    },
    {
      "cell_type": "markdown",
      "source": [
        "##20IT068"
      ],
      "metadata": {
        "id": "Ir1PyQDyCkCv"
      }
    },
    {
      "cell_type": "markdown",
      "source": [
        "##Practical 8"
      ],
      "metadata": {
        "id": "_L4iK6kiCvr-"
      }
    },
    {
      "cell_type": "markdown",
      "source": [
        "**Importing the libraries**"
      ],
      "metadata": {
        "id": "d6qTDFOfC0yw"
      }
    },
    {
      "cell_type": "code",
      "execution_count": 1,
      "metadata": {
        "id": "tow32hT963E1"
      },
      "outputs": [],
      "source": [
        "import tensorflow as tf\n",
        "from tensorflow import keras\n",
        "from tensorflow.keras import layers\n",
        "from tensorflow.keras.datasets import mnist\n",
        "from tensorflow.keras.utils import to_categorical"
      ]
    },
    {
      "cell_type": "markdown",
      "source": [
        "**Dividing the data into train and test**"
      ],
      "metadata": {
        "id": "6GtWqoQFC4W1"
      }
    },
    {
      "cell_type": "code",
      "source": [
        "(x_train, y_train), (x_test, y_test) = mnist.load_data()"
      ],
      "metadata": {
        "colab": {
          "base_uri": "https://localhost:8080/"
        },
        "id": "9Obl2kcoAL10",
        "outputId": "813cf08b-b97d-4f29-9454-0284e0da2d1a"
      },
      "execution_count": 2,
      "outputs": [
        {
          "output_type": "stream",
          "name": "stdout",
          "text": [
            "Downloading data from https://storage.googleapis.com/tensorflow/tf-keras-datasets/mnist.npz\n",
            "11490434/11490434 [==============================] - 0s 0us/step\n"
          ]
        }
      ]
    },
    {
      "cell_type": "markdown",
      "source": [
        "**Preprocessing the data**"
      ],
      "metadata": {
        "id": "NSW_lOBeEKRO"
      }
    },
    {
      "cell_type": "code",
      "source": [
        "x_train = x_train.astype('float32') / 255.0 #normalizing the pixel values of the input images between 0 and 1\n",
        "x_test = x_test.astype('float32') / 255.0\n",
        "x_train = x_train.reshape(-1, 28, 28, 1) #transforming the 2D arrays representing the images into 4D arrays of shape (batch_size, image_height, image_width, num_channels).\n",
        "x_test = x_test.reshape(-1, 28, 28, 1)\n"
      ],
      "metadata": {
        "id": "qDrKYf8QBMfp"
      },
      "execution_count": 3,
      "outputs": []
    },
    {
      "cell_type": "code",
      "source": [
        "y_train = to_categorical(y_train)\n",
        "y_test = to_categorical(y_test)"
      ],
      "metadata": {
        "id": "C6wymLKmBOMv"
      },
      "execution_count": 4,
      "outputs": []
    },
    {
      "cell_type": "markdown",
      "source": [
        "**Defining the CNN model**"
      ],
      "metadata": {
        "id": "qST8X9fFDFeY"
      }
    },
    {
      "cell_type": "code",
      "source": [
        "model = keras.Sequential([\n",
        "    layers.Conv2D(32, (3, 3), activation='relu', input_shape=(28, 28, 1)),\n",
        "    layers.MaxPooling2D((2, 2)),\n",
        "    layers.Conv2D(64, (3, 3), activation='relu'),\n",
        "    layers.MaxPooling2D((2, 2)),\n",
        "    layers.Flatten(),\n",
        "    layers.Dense(128, activation='relu'),\n",
        "    layers.Dense(10, activation='softmax')\n",
        "])"
      ],
      "metadata": {
        "id": "feYS2QP_BQi1"
      },
      "execution_count": 5,
      "outputs": []
    },
    {
      "cell_type": "markdown",
      "source": [
        "**compiling the model with adam optimizer and categorical_crossentropy loss function**"
      ],
      "metadata": {
        "id": "dEacmUBTDI5J"
      }
    },
    {
      "cell_type": "code",
      "source": [
        "model.compile(optimizer='adam', loss='categorical_crossentropy', metrics=['accuracy'])"
      ],
      "metadata": {
        "id": "JcOiGWznBU8F"
      },
      "execution_count": 6,
      "outputs": []
    },
    {
      "cell_type": "markdown",
      "source": [
        "**Starting the training process**"
      ],
      "metadata": {
        "id": "udtYbecpDVhy"
      }
    },
    {
      "cell_type": "code",
      "source": [
        "history = model.fit(x_train, y_train, epochs=10, validation_data=(x_test, y_test))"
      ],
      "metadata": {
        "colab": {
          "base_uri": "https://localhost:8080/"
        },
        "id": "pH8E3cRABXOm",
        "outputId": "350dfb94-2a18-4fc6-f68c-7b40645d1f75"
      },
      "execution_count": 7,
      "outputs": [
        {
          "output_type": "stream",
          "name": "stdout",
          "text": [
            "Epoch 1/10\n",
            "1875/1875 [==============================] - 21s 5ms/step - loss: 0.1245 - accuracy: 0.9621 - val_loss: 0.0407 - val_accuracy: 0.9857\n",
            "Epoch 2/10\n",
            "1875/1875 [==============================] - 10s 5ms/step - loss: 0.0405 - accuracy: 0.9872 - val_loss: 0.0306 - val_accuracy: 0.9899\n",
            "Epoch 3/10\n",
            "1875/1875 [==============================] - 10s 5ms/step - loss: 0.0287 - accuracy: 0.9906 - val_loss: 0.0261 - val_accuracy: 0.9925\n",
            "Epoch 4/10\n",
            "1875/1875 [==============================] - 10s 5ms/step - loss: 0.0215 - accuracy: 0.9927 - val_loss: 0.0352 - val_accuracy: 0.9888\n",
            "Epoch 5/10\n",
            "1875/1875 [==============================] - 9s 5ms/step - loss: 0.0152 - accuracy: 0.9952 - val_loss: 0.0302 - val_accuracy: 0.9900\n",
            "Epoch 6/10\n",
            "1875/1875 [==============================] - 10s 6ms/step - loss: 0.0115 - accuracy: 0.9961 - val_loss: 0.0261 - val_accuracy: 0.9925\n",
            "Epoch 7/10\n",
            "1875/1875 [==============================] - 10s 5ms/step - loss: 0.0102 - accuracy: 0.9967 - val_loss: 0.0307 - val_accuracy: 0.9911\n",
            "Epoch 8/10\n",
            "1875/1875 [==============================] - 11s 6ms/step - loss: 0.0078 - accuracy: 0.9975 - val_loss: 0.0473 - val_accuracy: 0.9887\n",
            "Epoch 9/10\n",
            "1875/1875 [==============================] - 10s 5ms/step - loss: 0.0063 - accuracy: 0.9979 - val_loss: 0.0354 - val_accuracy: 0.9914\n",
            "Epoch 10/10\n",
            "1875/1875 [==============================] - 9s 5ms/step - loss: 0.0066 - accuracy: 0.9979 - val_loss: 0.0395 - val_accuracy: 0.9911\n"
          ]
        }
      ]
    },
    {
      "cell_type": "code",
      "source": [
        "test_loss, test_acc = model.evaluate(x_test, y_test, verbose=2)\n",
        "print('Test accuracy:', test_acc)"
      ],
      "metadata": {
        "colab": {
          "base_uri": "https://localhost:8080/"
        },
        "id": "hxDFDTGyBZJi",
        "outputId": "cd111efe-834b-4273-cfa8-ad18e55b983c"
      },
      "execution_count": 8,
      "outputs": [
        {
          "output_type": "stream",
          "name": "stdout",
          "text": [
            "313/313 - 1s - loss: 0.0395 - accuracy: 0.9911 - 1s/epoch - 4ms/step\n",
            "Test accuracy: 0.991100013256073\n"
          ]
        }
      ]
    },
    {
      "cell_type": "markdown",
      "source": [
        "##Comparing the CNN model's accuracy with the ANN model"
      ],
      "metadata": {
        "id": "QuCFSZxsDcXH"
      }
    },
    {
      "cell_type": "code",
      "source": [
        "model1 = keras.Sequential([\n",
        "    layers.Flatten(input_shape=(28, 28, 1)),\n",
        "    layers.Dense(128, activation='relu'),\n",
        "    layers.Dense(10, activation='softmax')\n",
        "])"
      ],
      "metadata": {
        "id": "uCLTSUl4BpXH"
      },
      "execution_count": 9,
      "outputs": []
    },
    {
      "cell_type": "code",
      "source": [
        "model1.compile(optimizer='adam', loss='categorical_crossentropy', metrics=['accuracy'])"
      ],
      "metadata": {
        "id": "jnY5hplvBwbH"
      },
      "execution_count": 10,
      "outputs": []
    },
    {
      "cell_type": "code",
      "source": [
        "history1 = model1.fit(x_train, y_train, epochs=10, validation_data=(x_test, y_test))"
      ],
      "metadata": {
        "colab": {
          "base_uri": "https://localhost:8080/"
        },
        "id": "LTloTxa_ByqU",
        "outputId": "8c106e71-4f79-40e4-d1cb-43614ed53f7f"
      },
      "execution_count": 11,
      "outputs": [
        {
          "output_type": "stream",
          "name": "stdout",
          "text": [
            "Epoch 1/10\n",
            "1875/1875 [==============================] - 8s 4ms/step - loss: 0.2533 - accuracy: 0.9266 - val_loss: 0.1217 - val_accuracy: 0.9647\n",
            "Epoch 2/10\n",
            "1875/1875 [==============================] - 7s 4ms/step - loss: 0.1101 - accuracy: 0.9681 - val_loss: 0.1077 - val_accuracy: 0.9662\n",
            "Epoch 3/10\n",
            "1875/1875 [==============================] - 7s 4ms/step - loss: 0.0753 - accuracy: 0.9776 - val_loss: 0.0871 - val_accuracy: 0.9722\n",
            "Epoch 4/10\n",
            "1875/1875 [==============================] - 8s 4ms/step - loss: 0.0566 - accuracy: 0.9825 - val_loss: 0.0780 - val_accuracy: 0.9769\n",
            "Epoch 5/10\n",
            "1875/1875 [==============================] - 7s 4ms/step - loss: 0.0426 - accuracy: 0.9870 - val_loss: 0.0707 - val_accuracy: 0.9786\n",
            "Epoch 6/10\n",
            "1875/1875 [==============================] - 8s 4ms/step - loss: 0.0348 - accuracy: 0.9890 - val_loss: 0.0713 - val_accuracy: 0.9781\n",
            "Epoch 7/10\n",
            "1875/1875 [==============================] - 7s 4ms/step - loss: 0.0268 - accuracy: 0.9922 - val_loss: 0.0751 - val_accuracy: 0.9793\n",
            "Epoch 8/10\n",
            "1875/1875 [==============================] - 8s 4ms/step - loss: 0.0225 - accuracy: 0.9928 - val_loss: 0.0807 - val_accuracy: 0.9773\n",
            "Epoch 9/10\n",
            "1875/1875 [==============================] - 8s 4ms/step - loss: 0.0188 - accuracy: 0.9940 - val_loss: 0.0735 - val_accuracy: 0.9798\n",
            "Epoch 10/10\n",
            "1875/1875 [==============================] - 7s 4ms/step - loss: 0.0151 - accuracy: 0.9952 - val_loss: 0.0783 - val_accuracy: 0.9795\n"
          ]
        }
      ]
    },
    {
      "cell_type": "code",
      "source": [
        "test_loss, test_acc = model1.evaluate(x_test, y_test, verbose=2)\n",
        "print('Test accuracy:', test_acc)"
      ],
      "metadata": {
        "colab": {
          "base_uri": "https://localhost:8080/"
        },
        "id": "r26rs6qkB5g-",
        "outputId": "f068f1c2-fe9b-46d3-b89b-412e5defa354"
      },
      "execution_count": 12,
      "outputs": [
        {
          "output_type": "stream",
          "name": "stdout",
          "text": [
            "313/313 - 1s - loss: 0.0783 - accuracy: 0.9795 - 750ms/epoch - 2ms/step\n",
            "Test accuracy: 0.9794999957084656\n"
          ]
        }
      ]
    },
    {
      "cell_type": "code",
      "source": [],
      "metadata": {
        "id": "GwJvBWRbCZLi"
      },
      "execution_count": null,
      "outputs": []
    }
  ]
}